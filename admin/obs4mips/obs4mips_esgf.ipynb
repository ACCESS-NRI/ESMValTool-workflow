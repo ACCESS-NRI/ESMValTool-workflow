{
 "cells": [
  {
   "cell_type": "code",
   "execution_count": 1,
   "id": "8bdd3c26",
   "metadata": {},
   "outputs": [],
   "source": [
    "#import yaml\n",
    "from ruamel.yaml import YAML\n",
    "import pathlib, subprocess\n",
    "from pathlib import Path"
   ]
  },
  {
   "cell_type": "code",
   "execution_count": 2,
   "id": "046e7c84",
   "metadata": {},
   "outputs": [],
   "source": [
    "def load_with_pre_directives_comments(yaml, path):\n",
    "    comments = []\n",
    "    text = path.read_text()\n",
    "    if '\\n---\\n' not in text and '\\n--- ' not in text:\n",
    "         return yaml.load(text), comments\n",
    "    for line in text.splitlines(True):\n",
    "        if line.lstrip().startswith('#'):\n",
    "            comments.append(line)\n",
    "        elif line.startswith('---'):\n",
    "            return yaml.load(text), comments\n",
    "            break"
   ]
  },
  {
   "cell_type": "code",
   "execution_count": 3,
   "id": "04e02ae4",
   "metadata": {},
   "outputs": [],
   "source": [
    "def lookup(sk, d, path=[]):\n",
    "    # lookup the values for key(s) sk return as list the tuple (path to the value, value)\n",
    "    if isinstance(d, dict):\n",
    "        for k, v in d.items():\n",
    "            if k == sk:\n",
    "                yield (d, v)\n",
    "            for res in lookup(sk, v, path + [k]):\n",
    "                yield res\n",
    "    elif isinstance(d, list):\n",
    "        for item in d:\n",
    "            for res in lookup(sk, item, path + [item]):\n",
    "                yield res"
   ]
  },
  {
   "cell_type": "code",
   "execution_count": 4,
   "id": "5467c796",
   "metadata": {},
   "outputs": [],
   "source": [
    "with open('recipe_obs4mips.yml', 'r') as file:\n",
    "    yaml = YAML(typ='safe')\n",
    "    recipes = yaml.load(file)[\"recipes\"]"
   ]
  },
  {
   "cell_type": "code",
   "execution_count": 14,
   "id": "ffd66592",
   "metadata": {},
   "outputs": [
    {
     "ename": "TypeError",
     "evalue": "YAML.dump() got an unexpected keyword argument 'width'",
     "output_type": "error",
     "traceback": [
      "\u001b[0;31m---------------------------------------------------------------------------\u001b[0m",
      "\u001b[0;31mTypeError\u001b[0m                                 Traceback (most recent call last)",
      "Cell \u001b[0;32mIn[14], line 33\u001b[0m\n\u001b[1;32m     31\u001b[0m     file\u001b[38;5;241m.\u001b[39mwrite(\u001b[38;5;124m'\u001b[39m\u001b[38;5;124m'\u001b[39m\u001b[38;5;241m.\u001b[39mjoin(comments))   \n\u001b[1;32m     32\u001b[0m \u001b[38;5;28;01mwith\u001b[39;00m \u001b[38;5;28mopen\u001b[39m(\u001b[38;5;124mf\u001b[39m\u001b[38;5;124m\"\u001b[39m\u001b[38;5;132;01m{\u001b[39;00mfile_in\u001b[38;5;241m.\u001b[39mstem\u001b[38;5;132;01m}\u001b[39;00m\u001b[38;5;124m.yml\u001b[39m\u001b[38;5;124m\"\u001b[39m, \u001b[38;5;124m'\u001b[39m\u001b[38;5;124ma\u001b[39m\u001b[38;5;124m'\u001b[39m) \u001b[38;5;28;01mas\u001b[39;00m file:\n\u001b[0;32m---> 33\u001b[0m     \u001b[43myaml\u001b[49m\u001b[38;5;241;43m.\u001b[39;49m\u001b[43mdump\u001b[49m\u001b[43m(\u001b[49m\u001b[43mdata\u001b[49m\u001b[43m,\u001b[49m\u001b[43m \u001b[49m\u001b[43mfile\u001b[49m\u001b[43m,\u001b[49m\u001b[43m \u001b[49m\u001b[43mwidth\u001b[49m\u001b[38;5;241;43m=\u001b[39;49m\u001b[38;5;241;43m80\u001b[39;49m\u001b[43m)\u001b[49m\n",
      "\u001b[0;31mTypeError\u001b[0m: YAML.dump() got an unexpected keyword argument 'width'"
     ]
    }
   ],
   "source": [
    "for recipe in  recipes.keys():\n",
    "    datasets_to_replace = recipes[recipe][\"datasets\"]\n",
    "\n",
    "    yaml = YAML()\n",
    "    yaml.width = 80\n",
    "    yaml.indent(mapping=2, sequence=4, offset=2)\n",
    "    yaml.explicit_start = True\n",
    "    yaml.allow_duplicate_keys = True\n",
    "    _, comments = load_with_pre_directives_comments(yaml, pathlib.Path(f\"recipes/{recipe}\"))\n",
    "    \n",
    "    with open(f\"recipes/{recipe}\", \"r\") as file:\n",
    "        data = yaml.load(file)\n",
    "\n",
    "    for key, val in datasets_to_replace.items():\n",
    "        for d, value in lookup(\"additional_datasets\", data):\n",
    "            for entry in d[\"additional_datasets\"]:\n",
    "                if entry[\"dataset\"] == key:\n",
    "                    entry[\"dataset\"] = datasets_to_replace[key][\"esgf_dataset\"]\n",
    "                    if \"version\" in entry.keys():\n",
    "                        entry.pop(\"version\")\n",
    "            \n",
    "        for d, value in lookup(\"datasets\", data):\n",
    "            for entry in d[\"datasets\"]:\n",
    "                if entry[\"dataset\"] == key:\n",
    "                    entry[\"dataset\"] = datasets_to_replace[key][\"esgf_dataset\"]\n",
    "                    if \"version\" in entry.keys():\n",
    "                        entry.pop(\"version\")\n",
    "    \n",
    "    file_in = Path(recipe)    \n",
    "    with open(f\"{file_in.stem}.yml\", 'w') as file:\n",
    "        file.write(''.join(comments))   \n",
    "    with open(f\"{file_in.stem}.yml\", 'a') as file:\n",
    "        yaml.dump(data, file)"
   ]
  }
 ],
 "metadata": {
  "kernelspec": {
   "display_name": "Python 3 (ipykernel)",
   "language": "python",
   "name": "python3"
  },
  "language_info": {
   "codemirror_mode": {
    "name": "ipython",
    "version": 3
   },
   "file_extension": ".py",
   "mimetype": "text/x-python",
   "name": "python",
   "nbconvert_exporter": "python",
   "pygments_lexer": "ipython3",
   "version": "3.11.3"
  }
 },
 "nbformat": 4,
 "nbformat_minor": 5
}
